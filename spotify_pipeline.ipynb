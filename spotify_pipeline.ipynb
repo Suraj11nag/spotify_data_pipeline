{
 "cells": [
  {
   "cell_type": "code",
   "execution_count": 1,
   "metadata": {},
   "outputs": [
    {
     "name": "stdout",
     "output_type": "stream",
     "text": [
      "Requirement already satisfied: spotify in /Users/surajnag/anaconda3/lib/python3.10/site-packages (0.10.2)\n",
      "Requirement already satisfied: backoff<2.0.0,>=1.10.0 in /Users/surajnag/anaconda3/lib/python3.10/site-packages (from spotify) (1.11.1)\n",
      "Requirement already satisfied: aiohttp<4.0,>=3.6 in /Users/surajnag/anaconda3/lib/python3.10/site-packages (from spotify) (3.8.4)\n",
      "Requirement already satisfied: charset-normalizer<4.0,>=2.0 in /Users/surajnag/anaconda3/lib/python3.10/site-packages (from aiohttp<4.0,>=3.6->spotify) (2.0.4)\n",
      "Requirement already satisfied: aiosignal>=1.1.2 in /Users/surajnag/anaconda3/lib/python3.10/site-packages (from aiohttp<4.0,>=3.6->spotify) (1.3.1)\n",
      "Requirement already satisfied: attrs>=17.3.0 in /Users/surajnag/anaconda3/lib/python3.10/site-packages (from aiohttp<4.0,>=3.6->spotify) (23.2.0)\n",
      "Requirement already satisfied: multidict<7.0,>=4.5 in /Users/surajnag/anaconda3/lib/python3.10/site-packages (from aiohttp<4.0,>=3.6->spotify) (6.0.4)\n",
      "Requirement already satisfied: yarl<2.0,>=1.0 in /Users/surajnag/anaconda3/lib/python3.10/site-packages (from aiohttp<4.0,>=3.6->spotify) (1.9.2)\n",
      "Requirement already satisfied: async-timeout<5.0,>=4.0.0a3 in /Users/surajnag/anaconda3/lib/python3.10/site-packages (from aiohttp<4.0,>=3.6->spotify) (4.0.2)\n",
      "Requirement already satisfied: frozenlist>=1.1.1 in /Users/surajnag/anaconda3/lib/python3.10/site-packages (from aiohttp<4.0,>=3.6->spotify) (1.3.3)\n",
      "Requirement already satisfied: idna>=2.0 in /Users/surajnag/anaconda3/lib/python3.10/site-packages (from yarl<2.0,>=1.0->aiohttp<4.0,>=3.6->spotify) (3.4)\n",
      "Note: you may need to restart the kernel to use updated packages.\n"
     ]
    }
   ],
   "source": [
    "pip install spotify"
   ]
  },
  {
   "cell_type": "code",
   "execution_count": null,
   "metadata": {},
   "outputs": [],
   "source": []
  }
 ],
 "metadata": {
  "kernelspec": {
   "display_name": "Python 3",
   "language": "python",
   "name": "python3"
  },
  "language_info": {
   "name": "python",
   "version": "3.10.9"
  }
 },
 "nbformat": 4,
 "nbformat_minor": 2
}
